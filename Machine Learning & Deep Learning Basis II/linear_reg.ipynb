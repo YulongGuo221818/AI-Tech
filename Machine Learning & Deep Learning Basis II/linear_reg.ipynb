{
  "nbformat": 4,
  "nbformat_minor": 0,
  "metadata": {
    "colab": {
      "name": "linear_reg.ipynb",
      "provenance": []
    },
    "kernelspec": {
      "name": "python3",
      "display_name": "Python 3"
    }
  },
  "cells": [
    {
      "cell_type": "code",
      "metadata": {
        "id": "6KmbFLcig0Zd",
        "colab_type": "code",
        "colab": {
          "base_uri": "https://localhost:8080/",
          "height": 265
        },
        "outputId": "e202e7e9-5e24-4238-f16e-150357d01529"
      },
      "source": [
        "import numpy\n",
        "from pandas import read_csv\n",
        "from matplotlib import pyplot as plt\n",
        "from sklearn.linear_model import LinearRegression\n",
        "\n",
        "data = read_csv('linear_reg.csv')\n",
        "\n",
        "# plot scatter\n",
        "plt.scatter(data.income,data.expenditure)\n",
        "\n",
        "data.corr()\n",
        "\n",
        "model = LinearRegression()\n",
        "\n",
        "X_train = data[['income']]\n",
        "Y_train = data[['expenditure']]"
      ],
      "execution_count": 14,
      "outputs": [
        {
          "output_type": "display_data",
          "data": {
            "image/png": "[encoded data removed]",
            "text/plain": [
              "<Figure size 432x288 with 1 Axes>"
            ]
          },
          "metadata": {
            "tags": [],
            "needs_background": "light"
          }
        }
      ]
    },
    {
      "cell_type": "code",
      "metadata": {
        "id": "7pURGI8skAfn",
        "colab_type": "code",
        "colab": {
          "base_uri": "https://localhost:8080/",
          "height": 34
        },
        "outputId": "a1570e9a-4a23-45b4-d5c4-0106d7a611b9"
      },
      "source": [
        "# Model training\n",
        "model.fit(X_train,Y_train)\n",
        "model.score(X_train,Y_train)\n",
        "\n",
        "# prediction based on trained model\n",
        "model.predict([[60],[70]])\n",
        "\n",
        "# check intercept\n",
        "a = model.intercept_[0]\n",
        "\n",
        "# get params\n",
        "b = model.coef_[0][0]\n",
        "a + b*numpy.array([60,70])"
      ],
      "execution_count": 15,
      "outputs": [
        {
          "output_type": "execute_result",
          "data": {
            "text/plain": [
              "array([150.0667131, 173.7963006])"
            ]
          },
          "metadata": {
            "tags": []
          },
          "execution_count": 15
        }
      ]
    },
    {
      "cell_type": "code",
      "metadata": {
        "id": "jXUE_bXSkDme",
        "colab_type": "code",
        "colab": {
          "base_uri": "https://localhost:8080/",
          "height": 265
        },
        "outputId": "b65bd38e-c4a4-465a-94d8-cc4e88c3a5fa"
      },
      "source": [
        "# plot scatter after training\n",
        "plt.scatter(data.income,data.expenditure, color = 'green', label = 'train data')\n",
        "\n",
        "# depict the best fit line\n",
        "Y_train_pred = model.predict(X_train)\n",
        "plt.plot(X_train, Y_train_pred, color = 'black', label = 'best line')\n",
        "\n",
        "# output\n",
        "plt.legend(loc = 2)\n",
        "plt.show()"
      ],
      "execution_count": 16,
      "outputs": [
        {
          "output_type": "display_data",
          "data": {
            "image/png": "[encoded data removed]",
            "text/plain": [
              "<Figure size 432x288 with 1 Axes>"
            ]
          },
          "metadata": {
            "tags": [],
            "needs_background": "light"
          }
        }
      ]
    }
  ]
}