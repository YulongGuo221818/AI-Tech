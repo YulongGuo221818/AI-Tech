{
  "nbformat": 4,
  "nbformat_minor": 0,
  "metadata": {
    "colab": {
      "name": "PLA.ipynb",
      "provenance": [],
      "toc_visible": true
    },
    "kernelspec": {
      "name": "python3",
      "display_name": "Python 3"
    }
  },
  "cells": [
    {
      "cell_type": "markdown",
      "metadata": {
        "id": "eZk8HdBZDjt9",
        "colab_type": "text"
      },
      "source": [
        "# **Input data**"
      ]
    },
    {
      "cell_type": "code",
      "metadata": {
        "id": "wrnGKDVoCuRt",
        "colab_type": "code",
        "colab": {}
      },
      "source": [
        "import numpy as np\n",
        "import pandas as pd\n",
        "\n",
        "data = pd.read_csv('./data1.csv', header=None)\n",
        "# input samples，dim（100，2）\n",
        "X = data.iloc[:,:2].values\n",
        "# output samples，dim（100，）\n",
        "y = data.iloc[:,2].values"
      ],
      "execution_count": 29,
      "outputs": []
    },
    {
      "cell_type": "markdown",
      "metadata": {
        "id": "2tMxwX2sDnwM",
        "colab_type": "text"
      },
      "source": [
        "# **Data visualization**"
      ]
    },
    {
      "cell_type": "code",
      "metadata": {
        "id": "wiE3M7QCDm8R",
        "colab_type": "code",
        "colab": {
          "base_uri": "https://localhost:8080/",
          "height": 295
        },
        "outputId": "bc0f7fd7-d5b4-449a-a782-87ae614186be"
      },
      "source": [
        "import matplotlib.pyplot as plt\n",
        "\n",
        "plt.scatter(X[:50, 0], X[:50, 1], color='blue', marker='o', label='Positive')\n",
        "plt.scatter(X[50:, 0], X[50:, 1], color='red', marker='x', label='Negative')\n",
        "plt.xlabel('Feature 1')\n",
        "plt.ylabel('Feature 2')\n",
        "plt.legend(loc = 'upper left')\n",
        "plt.title('Original Data')\n",
        "plt.show()"
      ],
      "execution_count": 30,
      "outputs": [
        {
          "output_type": "display_data",
          "data": {
            "image/png": "[encoded data removed]",
            "text/plain": [
              "<Figure size 432x288 with 1 Axes>"
            ]
          },
          "metadata": {
            "tags": [],
            "needs_background": "light"
          }
        }
      ]
    },
    {
      "cell_type": "markdown",
      "metadata": {
        "id": "vebK9buuDz5C",
        "colab_type": "text"
      },
      "source": [
        "# **PLA algorithm**\n",
        "### Feature normalization\n",
        "\n",
        "First, normalize the two features separately\n",
        "\n",
        "![image.png](data:image/png;base64,iVBORw0KGgoAAAANSUhEUgAAAEMAAAAXCAYAAABQ1fKSAAAB0UlEQVRYCe2XwU0DMRBF/xmElANnlBK4onCgBArgQAl0EA4UQAm554JEAdABlEAHpAPQk/yl1Wpt7ypZr6PNSKNJdm3P+M+fsVeqT5aS3iQ9h9AWkjaS7uoLtUxETwEQvD0GLeO5Qi+w4U/S/QhAsDbsQ7D+HR7VaSiNzxFCo/xgG4IPAK9a3Cd+MlHeSnrv0G1iHgCbDbvEuGpevUoCEMDIZe5cUlvPEjsxwLAjyjzQootTq0xw976W9C0JFGlsY4uBwE+zkR7CL3v6CnvDDyXD/qICEEywkCEQTE7y4D0tLAAAEoNfspcNeIBP1vIxDTD8TwoDYIfrCraUACIZ1IFeRssitj4gAAY0AkV33tj4Y3rOngaLe8eQHgHqHxk9SmABwZeevkhSgzl16XWtSSk+TKSXXQHxjKAoDxopDCklLyEBJKG03nRtksxBdzq52ZHKZnMNGu86ozAnJleSVhPpRTsoAIAJWARLhrLHTxjPuJymwAjLTG/YOHeL9m0Plvw2AJo+0gIRUBJklW5vZgCMM837vuVSINyTixMCPRCAzZQzpx8WFs9SKGU+IiltQGj3vFmBAhD+bgII7kezFY5+CyViYPxsVpZ+ASOwewPxD8x2i3t0lLboAAAAAElFTkSuQmCC)\n",
        "\n",
        "Among them, $\\mu$ is the feature mean, and $\\sigma$ is the feature standard deviation.\n"
      ]
    },
    {
      "cell_type": "code",
      "metadata": {
        "id": "fWuN6025E58B",
        "colab_type": "code",
        "colab": {
          "base_uri": "https://localhost:8080/",
          "height": 295
        },
        "outputId": "c1a16eb4-823d-452a-b0bd-09d9d6207a84"
      },
      "source": [
        "# Mean\n",
        "u = np.mean(X, axis=0)\n",
        "# standard deviation\n",
        "v = np.std(X, axis=0)\n",
        "\n",
        "X = (X - u) / v\n",
        "\n",
        "# draw\n",
        "plt.scatter(X[:50, 0], X[:50, 1], color='blue', marker='o', label='Positive')\n",
        "plt.scatter(X[50:, 0], X[50:, 1], color='red', marker='x', label='Negative')\n",
        "plt.xlabel('Feature 1')\n",
        "plt.ylabel('Feature 2')\n",
        "plt.legend(loc = 'upper left')\n",
        "plt.title('Normalization data')\n",
        "plt.show()"
      ],
      "execution_count": 31,
      "outputs": [
        {
          "output_type": "display_data",
          "data": {
            "image/png": "[encoded data removed]",
            "text/plain": [
              "<Figure size 432x288 with 1 Axes>"
            ]
          },
          "metadata": {
            "tags": [],
            "needs_background": "light"
          }
        }
      ]
    },
    {
      "cell_type": "markdown",
      "metadata": {
        "id": "jp21XlC0FDZM",
        "colab_type": "text"
      },
      "source": [
        "Classification Boundary init"
      ]
    },
    {
      "cell_type": "code",
      "metadata": {
        "id": "3H_YXwirFVqa",
        "colab_type": "code",
        "colab": {}
      },
      "source": [
        "# X + offset\n",
        "X = np.hstack((np.ones((X.shape[0],1)), X))\n",
        "# weight init\n",
        "w = np.random.randn(3,1)"
      ],
      "execution_count": 32,
      "outputs": []
    },
    {
      "cell_type": "markdown",
      "metadata": {
        "id": "xRJ1IaaVFgbD",
        "colab_type": "text"
      },
      "source": [
        "Display initial line position:"
      ]
    },
    {
      "cell_type": "code",
      "metadata": {
        "id": "G31PjGk-Fj0Y",
        "colab_type": "code",
        "colab": {
          "base_uri": "https://localhost:8080/",
          "height": 279
        },
        "outputId": "5c19ae1a-ed9e-4305-e538-51cf76dcceff"
      },
      "source": [
        "# First coordinate（x1，y1）\n",
        "x1 = -2\n",
        "y1 = -1 / w[2] * (w[0] * 1 + w[1] * x1)\n",
        "# Second coordinate（x2，y2）\n",
        "x2 = 2\n",
        "y2 = -1 / w[2] * (w[0] * 1 + w[1] * x2)\n",
        "# draw\n",
        "plt.scatter(X[:50, 1], X[:50, 2], color='blue', marker='o', label='Positive')\n",
        "plt.scatter(X[50:, 1], X[50:, 2], color='red', marker='x', label='Negative')\n",
        "plt.plot([x1,x2], [y1,y2],'r')\n",
        "plt.xlabel('Feature 1')\n",
        "plt.ylabel('Feature 2')\n",
        "plt.legend(loc = 'upper left')\n",
        "plt.show()"
      ],
      "execution_count": 33,
      "outputs": [
        {
          "output_type": "display_data",
          "data": {
            "image/png": "[encoded data removed]",
            "text/plain": [
              "<Figure size 432x288 with 1 Axes>"
            ]
          },
          "metadata": {
            "tags": [],
            "needs_background": "light"
          }
        }
      ]
    },
    {
      "cell_type": "markdown",
      "metadata": {
        "id": "0cYrJGDoGESJ",
        "colab_type": "text"
      },
      "source": [
        "Calculate scores, update weights"
      ]
    },
    {
      "cell_type": "code",
      "metadata": {
        "id": "UW13FxqgGE61",
        "colab_type": "code",
        "colab": {}
      },
      "source": [
        "s = np.dot(X, w)\n",
        "y_pred = np.ones_like(y)    # predict the output\n",
        "loc_n = np.where(s < 0)[0]\n",
        "y_pred[loc_n] = -1"
      ],
      "execution_count": 34,
      "outputs": []
    },
    {
      "cell_type": "markdown",
      "metadata": {
        "id": "8QtzQZfnHmQ-",
        "colab_type": "text"
      },
      "source": [
        "Next, select one of the misclassified samples and use PLA to update the weight coefficient $w$."
      ]
    },
    {
      "cell_type": "code",
      "metadata": {
        "id": "_IkRt3D1HpIa",
        "colab_type": "code",
        "colab": {}
      },
      "source": [
        "# The first error point\n",
        "t = np.where(y != y_pred)[0][0]\n",
        "# update weights w\n",
        "w += y[t] * X[t, :].reshape((3,1))"
      ],
      "execution_count": 35,
      "outputs": []
    },
    {
      "cell_type": "markdown",
      "metadata": {
        "id": "XDmQ0jvmH5nE",
        "colab_type": "text"
      },
      "source": [
        "## **Iterative update training**\n",
        "\n",
        "Updating the weight $w$ is an iterative process. As long as there are misclassified samples, it will continue to update until all samples are classified correctly. (Note that the premise is that the positive and negative samples are completely separable)"
      ]
    },
    {
      "cell_type": "code",
      "metadata": {
        "id": "CpRCsSlCH6Tg",
        "colab_type": "code",
        "colab": {
          "base_uri": "https://localhost:8080/",
          "height": 68
        },
        "outputId": "d274c2a5-3fb5-4694-8e34-0e98a7af6305"
      },
      "source": [
        "for i in range(100):\n",
        "    s = np.dot(X, w)\n",
        "    y_pred = np.ones_like(y)\n",
        "    loc_n = np.where(s < 0)[0]\n",
        "    y_pred[loc_n] = -1\n",
        "    num_fault = len(np.where(y != y_pred)[0])\n",
        "    print('Update time %2d, error points: %2d' % (i, num_fault))\n",
        "    if num_fault == 0:\n",
        "        break\n",
        "    else:\n",
        "        t = np.where(y != y_pred)[0][0]\n",
        "        w += y[t] * X[t, :].reshape((3,1))"
      ],
      "execution_count": 36,
      "outputs": [
        {
          "output_type": "stream",
          "text": [
            "Update time  0, error points: 14\n",
            "Update time  1, error points: 40\n",
            "Update time  2, error points:  0\n"
          ],
          "name": "stdout"
        }
      ]
    },
    {
      "cell_type": "markdown",
      "metadata": {
        "id": "zgRxHidiIsrN",
        "colab_type": "text"
      },
      "source": [
        "Draw result"
      ]
    },
    {
      "cell_type": "code",
      "metadata": {
        "id": "80UivzFCItVl",
        "colab_type": "code",
        "colab": {
          "base_uri": "https://localhost:8080/",
          "height": 279
        },
        "outputId": "3ba74459-fcea-4d94-a98c-6f6e41226b58"
      },
      "source": [
        "# First coordinate（x1，y1）\n",
        "x1 = -2\n",
        "y1 = -1 / w[2] * (w[0] * 1 + w[1] * x1)\n",
        "# Second coordinate（x2，y2）\n",
        "x2 = 2\n",
        "y2 = -1 / w[2] * (w[0] * 1 + w[1] * x2)\n",
        "# draw\n",
        "plt.scatter(X[:50, 1], X[:50, 2], color='blue', marker='o', label='Positive')\n",
        "plt.scatter(X[50:, 1], X[50:, 2], color='red', marker='x', label='Negative')\n",
        "plt.plot([x1,x2], [y1,y2],'r')\n",
        "plt.xlabel('Feature 1')\n",
        "plt.ylabel('Feature 2')\n",
        "plt.legend(loc = 'upper left')\n",
        "plt.show()"
      ],
      "execution_count": 37,
      "outputs": [
        {
          "output_type": "display_data",
          "data": {
            "image/png": "[encoded data removed]",
            "text/plain": [
              "<Figure size 432x288 with 1 Axes>"
            ]
          },
          "metadata": {
            "tags": [],
            "needs_background": "light"
          }
        }
      ]
    }
  ]
}