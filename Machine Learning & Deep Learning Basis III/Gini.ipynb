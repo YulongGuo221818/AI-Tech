{
  "nbformat": 4,
  "nbformat_minor": 0,
  "metadata": {
    "colab": {
      "name": "Gini.ipynb",
      "provenance": []
    },
    "kernelspec": {
      "name": "python3",
      "display_name": "Python 3"
    }
  },
  "cells": [
    {
      "cell_type": "code",
      "metadata": {
        "id": "6KmbFLcig0Zd",
        "colab_type": "code",
        "colab": {}
      },
      "source": [
        "def gini_index_single(a, b):\n",
        "  single_gini = 1 - ((a/(a+b))**2) - ((b/(a+b))**2)\n",
        "  return round(single_gini, 2)"
      ],
      "execution_count": 3,
      "outputs": []
    },
    {
      "cell_type": "code",
      "metadata": {
        "id": "7pURGI8skAfn",
        "colab_type": "code",
        "colab": {
          "base_uri": "https://localhost:8080/",
          "height": 34
        },
        "outputId": "1090668f-7eb2-4a8c-842d-063895b08c63"
      },
      "source": [
        "print(gini_index_single(105, 39))"
      ],
      "execution_count": 4,
      "outputs": [
        {
          "output_type": "stream",
          "text": [
            "0.39\n"
          ],
          "name": "stdout"
        }
      ]
    },
    {
      "cell_type": "code",
      "metadata": {
        "id": "jXUE_bXSkDme",
        "colab_type": "code",
        "colab": {}
      },
      "source": [
        "def gini_index(a, b, c, d):\n",
        "    left = gini_index_single(a, b)\n",
        "    right = gini_index_single(c, d)\n",
        "    gini_index = left * ((a + b)/ (a + b + c + d)) + right * ((c + d)/(a + b + c + d))\n",
        "    return round(gini_index, 3)"
      ],
      "execution_count": 5,
      "outputs": []
    },
    {
      "cell_type": "code",
      "metadata": {
        "id": "zpFC_-eIOCjz",
        "colab_type": "code",
        "colab": {
          "base_uri": "https://localhost:8080/",
          "height": 68
        },
        "outputId": "d1ad20c8-8702-424d-e9c1-9c85702a09d6"
      },
      "source": [
        "print(gini_index(105, 39, 34, 125)) # Chest Pain\n",
        "print(gini_index(37, 127, 100, 33)) # Good Blood Circulation\n",
        "print(gini_index(92, 31, 45, 129))  # Blocked Arteries"
      ],
      "execution_count": 6,
      "outputs": [
        {
          "output_type": "stream",
          "text": [
            "0.364\n",
            "0.359\n",
            "0.38\n"
          ],
          "name": "stdout"
        }
      ]
    },
    {
      "cell_type": "markdown",
      "metadata": {
        "id": "A5fgIE6ZONKB",
        "colab_type": "text"
      },
      "source": [
        "# The output results of the above three attributes are 0.364, 0.36, 0.381\n",
        "# The smaller the gini index, the higher the purity, so choose the second attribute for the first node"
      ]
    },
    {
      "cell_type": "code",
      "metadata": {
        "id": "Uf3WHcWmOda5",
        "colab_type": "code",
        "colab": {
          "base_uri": "https://localhost:8080/",
          "height": 51
        },
        "outputId": "55ea1ec3-d15d-498d-91ff-d9ec093f5291"
      },
      "source": [
        "# Perform the second fork judgment\n",
        "print(gini_index(13, 98, 24, 29)) # Chest Pain property\n",
        "print(gini_index(24, 25, 13, 102)) # Blocked Arteries attribute\n",
        "# The result is 0.3, 0.29 select the smallest one --- Blocked Arteriers attribute"
      ],
      "execution_count": 7,
      "outputs": [
        {
          "output_type": "stream",
          "text": [
            "0.304\n",
            "0.29\n"
          ],
          "name": "stdout"
        }
      ]
    },
    {
      "cell_type": "code",
      "metadata": {
        "id": "Hg8AVLzBOlSG",
        "colab_type": "code",
        "colab": {}
      },
      "source": [
        "# Determine whether the third fork is needed\n",
        "# 24/25 branch\n",
        "print(gini_index_single(24, 25)) # The result is 0.5\n",
        "print(gini_index(17, 3, 7, 22)) # The result is 0.321\n",
        "# So need to fork, and so on"
      ],
      "execution_count": null,
      "outputs": []
    }
  ]
}