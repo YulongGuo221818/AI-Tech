{
  "nbformat": 4,
  "nbformat_minor": 0,
  "metadata": {
    "colab": {
      "name": "linear_reg.ipynb",
      "provenance": []
    },
    "kernelspec": {
      "name": "python3",
      "display_name": "Python 3"
    }
  },
  "cells": [
    {
      "cell_type": "code",
      "metadata": {
        "id": "6KmbFLcig0Zd",
        "colab_type": "code",
        "colab": {}
      },
      "source": [
        "import numpy\n",
        "from pandas import read_csv\n",
        "from matplotlib import pyplot as plt\n",
        "from sklearn.linear_model import LinearRegression\n",
        "\n",
        "# TODO: read data from csv file\n",
        "\n",
        "\n",
        "# TODO: plot scatter\n",
        "\n",
        "\n",
        "data.corr()\n",
        "\n",
        "# TODO: init the model\n",
        "\n",
        "X_train = data[['col1']]\n",
        "Y_train = data[['col2']]"
      ],
      "execution_count": null,
      "outputs": []
    },
    {
      "cell_type": "code",
      "metadata": {
        "id": "7pURGI8skAfn",
        "colab_type": "code",
        "colab": {}
      },
      "source": [
        "# TODO: Model training\n",
        "\n",
        "\n",
        "model.score(X_train,Y_train)\n",
        "\n",
        "# TODO: prediction based on trained model of point [60],[70]\n",
        "\n",
        "# check intercept\n",
        "a = model.intercept_[0]\n",
        "\n",
        "# get params\n",
        "b = model.coef_[0][0]\n",
        "a + b*numpy.array([60,70])"
      ],
      "execution_count": null,
      "outputs": []
    },
    {
      "cell_type": "code",
      "metadata": {
        "id": "jXUE_bXSkDme",
        "colab_type": "code",
        "colab": {}
      },
      "source": [
        "# plot scatter after training\n",
        "plt.scatter(data.col1,data.col2, color = 'green', label = 'train data')\n",
        "\n",
        "# depict the best fit line\n",
        "Y_train_pred = model.predict(X_train)\n",
        "plt.plot(X_train, Y_train_pred, color = 'black', label = 'best line')\n",
        "\n",
        "# output\n",
        "plt.legend(loc = 2)\n",
        "plt.show()"
      ],
      "execution_count": null,
      "outputs": []
    }
  ]
}