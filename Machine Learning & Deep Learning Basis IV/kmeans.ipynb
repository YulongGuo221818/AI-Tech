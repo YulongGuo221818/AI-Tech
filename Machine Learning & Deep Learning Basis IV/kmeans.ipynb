{
  "nbformat": 4,
  "nbformat_minor": 0,
  "metadata": {
    "colab": {
      "name": "kmeans.ipynb",
      "provenance": []
    },
    "kernelspec": {
      "name": "python3",
      "display_name": "Python 3"
    }
  },
  "cells": [
    {
      "cell_type": "code",
      "metadata": {
        "id": "6KmbFLcig0Zd",
        "colab_type": "code",
        "colab": {}
      },
      "source": [
        "import matplotlib.pyplot as plt\n",
        "import numpy as np"
      ],
      "execution_count": 39,
      "outputs": []
    },
    {
      "cell_type": "code",
      "metadata": {
        "id": "7pURGI8skAfn",
        "colab_type": "code",
        "colab": {}
      },
      "source": [
        "def load_data_set():\n",
        "    \"\"\"\n",
        "    load data\n",
        "    :return:\n",
        "        data_arr -- original data features\n",
        "        label_arr -- original data labels\n",
        "    \"\"\"\n",
        "    data_arr = []\n",
        "    label_arr = []\n",
        "\n",
        "    f = open('kmeans_data.txt', 'r')\n",
        "    for line in f.readlines():\n",
        "        line_arr = line.strip().split()\n",
        "        data_arr.append([np.float(line_arr[0]), np.float(line_arr[1])])\n",
        "        label_arr.append(int(line_arr[2]))\n",
        "    return np.array(data_arr), np.array(label_arr)"
      ],
      "execution_count": 40,
      "outputs": []
    },
    {
      "cell_type": "code",
      "metadata": {
        "id": "jXUE_bXSkDme",
        "colab_type": "code",
        "colab": {
          "base_uri": "https://localhost:8080/",
          "height": 299
        },
        "outputId": "c7a1cd26-a421-4cd0-99fe-104da53f8fb8"
      },
      "source": [
        "x,label = load_data_set()\n",
        "print(x.shape)\n",
        "plt.scatter(x[:,0],x[:,1])"
      ],
      "execution_count": 41,
      "outputs": [
        {
          "output_type": "stream",
          "text": [
            "(100, 2)\n"
          ],
          "name": "stdout"
        },
        {
          "output_type": "execute_result",
          "data": {
            "text/plain": [
              "<matplotlib.collections.PathCollection at 0x7f9362011748>"
            ]
          },
          "metadata": {
            "tags": []
          },
          "execution_count": 41
        },
        {
          "output_type": "display_data",
          "data": {
            "image/png": "[encoded data removed]",
            "text/plain": [
              "<Figure size 432x288 with 1 Axes>"
            ]
          },
          "metadata": {
            "tags": [],
            "needs_background": "light"
          }
        }
      ]
    },
    {
      "cell_type": "code",
      "metadata": {
        "id": "Tjd9zxkqr94v",
        "colab_type": "code",
        "colab": {}
      },
      "source": [
        "# create K clusters\n",
        "clusters = []\n",
        "p1 = [6,4]\n",
        "p2 = [1,3]\n",
        "cluster_center = np.array([p1,p2])\n",
        "k = 2\n",
        "for i in range(k):\n",
        "    clusters.append([])"
      ],
      "execution_count": 42,
      "outputs": []
    },
    {
      "cell_type": "code",
      "metadata": {
        "id": "hxcZEK_-sKFD",
        "colab_type": "code",
        "colab": {}
      },
      "source": [
        "epoch = 5\n",
        "for _ in range(epoch):\n",
        "    for i in range(k):\n",
        "        clusters[i]=[]\n",
        "        \n",
        "    # Calculate the distance from all points to the k cluster centers\n",
        "    for i in range(x.shape[0]):\n",
        "        xi = x[i]\n",
        "        distances = np.sum((cluster_center-xi)**2,axis=1)\n",
        "        # add the point to the cluster that is closer\n",
        "        c = np.argmin(distances)\n",
        "        clusters[c].append(i)\n",
        "\n",
        "    # Recalculate the cluster centers of k clusters (all points in each cluster are added up and averaged)\n",
        "    for i in range(k):\n",
        "        cluster_center[i] = np.sum(x[clusters[i]],axis=0)/len(clusters[i])"
      ],
      "execution_count": 43,
      "outputs": []
    },
    {
      "cell_type": "code",
      "metadata": {
        "id": "JqQmVwwlxzo2",
        "colab_type": "code",
        "colab": {
          "base_uri": "https://localhost:8080/",
          "height": 282
        },
        "outputId": "16454ac9-9bf5-4885-e49d-e0cc2f76b9ab"
      },
      "source": [
        "plt.scatter(x[clusters[0],0],x[clusters[0],1])\n",
        "plt.scatter(x[clusters[1],0],x[clusters[1],1])"
      ],
      "execution_count": 44,
      "outputs": [
        {
          "output_type": "execute_result",
          "data": {
            "text/plain": [
              "<matplotlib.collections.PathCollection at 0x7f9361f6ed68>"
            ]
          },
          "metadata": {
            "tags": []
          },
          "execution_count": 44
        },
        {
          "output_type": "display_data",
          "data": {
            "image/png": "[encoded data removed]",
            "text/plain": [
              "<Figure size 432x288 with 1 Axes>"
            ]
          },
          "metadata": {
            "tags": [],
            "needs_background": "light"
          }
        }
      ]
    }
  ]
}